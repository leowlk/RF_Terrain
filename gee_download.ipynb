{
 "cells": [
  {
   "cell_type": "code",
   "execution_count": 2,
   "metadata": {},
   "outputs": [
    {
     "data": {
      "text/html": [
       "<p>To authorize access needed by Earth Engine, open the following\n",
       "        URL in a web browser and follow the instructions:</p>\n",
       "        <p><a href=https://code.earthengine.google.com/client-auth?scopes=https%3A//www.googleapis.com/auth/earthengine%20https%3A//www.googleapis.com/auth/devstorage.full_control&request_id=jZ6Kn1w8FzVqn0PpYlSanAVPFj2FtJdbLeNEz6lTtmU&tc=u07pnAwKGYk8C1Q5uBrSMhUs8wwcy26Ilx42cY8u850&cc=91vMO_a9Ujo-ZEYI1znDDR3scUAWSSvxtF6zEjklOyU>https://code.earthengine.google.com/client-auth?scopes=https%3A//www.googleapis.com/auth/earthengine%20https%3A//www.googleapis.com/auth/devstorage.full_control&request_id=jZ6Kn1w8FzVqn0PpYlSanAVPFj2FtJdbLeNEz6lTtmU&tc=u07pnAwKGYk8C1Q5uBrSMhUs8wwcy26Ilx42cY8u850&cc=91vMO_a9Ujo-ZEYI1znDDR3scUAWSSvxtF6zEjklOyU</a></p>\n",
       "        <p>The authorization workflow will generate a code, which you should paste in the box below.</p>\n",
       "        "
      ],
      "text/plain": [
       "<IPython.core.display.HTML object>"
      ]
     },
     "metadata": {},
     "output_type": "display_data"
    },
    {
     "name": "stdout",
     "output_type": "stream",
     "text": [
      "\n",
      "Successfully saved authorization token.\n"
     ]
    }
   ],
   "source": [
    "import ee\n",
    "import geemap\n",
    "import os\n",
    "import numpy as np\n",
    "import matplotlib.pyplot as plt\n",
    "import geemap.colormaps as cm\n",
    "# --\n",
    "ee.Authenticate()\n",
    "ee.Initialize()"
   ]
  },
  {
   "cell_type": "code",
   "execution_count": 30,
   "metadata": {},
   "outputs": [],
   "source": [
    "Map = geemap.Map()\n",
    "\n",
    "# South Limburg\n",
    "limburg = ee.Geometry.Rectangle(5.5986, 50.7287, 6.2014, 51.1737)\n",
    "taranaki = ee.Geometry.Rectangle(173.834138, -39.468214, 174.316163, -39.147313)\n",
    "\n",
    "def download_features(bbox, area):\n",
    "    rf_features = {\n",
    "        \"world_settlement_c\": \n",
    "            ee.ImageCollection(\"projects/sat-io/open-datasets/WSF/WSF_2019\").filterBounds(bbox).mosaic(),\n",
    "        \n",
    "        \"geomorhpon_c\": \n",
    "            ee.ImageCollection(\"projects/sat-io/open-datasets/Geomorpho90m/geom\").filterBounds(bbox).mosaic(),\n",
    "        \n",
    "        \"esri_lulc2020_c\": \n",
    "            ee.ImageCollection(\n",
    "            \"projects/sat-io/open-datasets/landcover/ESRI_Global-LULC_10m\").filterBounds(bbox).mosaic(),\n",
    "        \n",
    "        \"global_crops_c\": \n",
    "            ee.ImageCollection(\"projects/sat-io/open-datasets/GFSAD/GCEP30\").filterBounds(bbox).mosaic(),\n",
    "        \n",
    "        \"gl_surface_water_c\": \n",
    "            ee.Image(\"projects/sat-io/open-datasets/ASTER/ASTWBD_ATT\").clip(bbox),\n",
    "            \n",
    "        \"bare_earth_freq_n\": \n",
    "            ee.Image(\"users/geocis/BareSurfaces/BF_1980_2019\"),\n",
    "            \n",
    "        \"global_water_c\": \n",
    "            ee.Image(\"JRC/GSW1_4/GlobalSurfaceWater\").clip(bbox),\n",
    "\n",
    "        \n",
    "        # \"ndvi\": ee.ImageCollection(\"MODIS/MYD09GA_006_NDVI\")\n",
    "        # .filter(ee.Filter.date(\"2022-01-01\", \"2023-01-01\"))\n",
    "        # .filterBounds(bbox)\n",
    "        # .mosaic(),\n",
    "        \n",
    "        # \"global_temp\": ee.ImageCollection(\n",
    "        #     \"projects/sat-io/open-datasets/global-daily-air-temp/australia\"\n",
    "        # )\n",
    "        # .filterBounds(bbox)\n",
    "        # .mosaic(),\n",
    "        \n",
    "    }\n",
    "\n",
    "    for feature in rf_features:\n",
    "        export_params = {\n",
    "            \"image\": rf_features[feature],\n",
    "            \"description\": f\"{feature}\",\n",
    "            \"scale\": 30,\n",
    "            \"region\": bbox,\n",
    "            \"folder\": f\"GEE_rf_export_{area}\",\n",
    "            # 'file_per_band' : True\n",
    "        }\n",
    "        geemap.ee_export_image_to_drive(**export_params)\n",
    "\n",
    "# Download Features from locations below:\n",
    "locations = {\n",
    "    'greater_nzealand': ee.Geometry.Rectangle(173.062973, -39.974479, 175.172348, -38.734258),\n",
    "    'greater_zlimburg': ee.Geometry.Rectangle(4.855957, 50.534380, 6.624756, 51.412912),\n",
    "    'greater_gcanyon': ee.Geometry.Rectangle(-112.276840,35.977451,-111.787262,36.291884)\n",
    "}\n",
    "\n",
    "gee_nzealand = ee.Geometry.Rectangle(173.062973, -39.974479, 175.172348, -38.734258)\n",
    "gee_zlimburg = ee.Geometry.Rectangle(4.855957, 50.534380, 6.624756, 51.412912)\n",
    "gee_gcanyon =ee.Geometry.Rectangle(-112.276840,35.977451,-111.787262,36.291884)\n",
    "\n",
    "\n",
    "download_features(gee_gcanyon, 'gee_gcanyon')\n",
    "download_features(gee_zlimburg, 'gee_zlimburg')\n",
    "download_features(gee_gcanyon, 'gee_gcanyon')"
   ]
  },
  {
   "cell_type": "code",
   "execution_count": 6,
   "metadata": {},
   "outputs": [
    {
     "data": {
      "application/vnd.jupyter.widget-view+json": {
       "model_id": "f17b5b0c730f4fbf85d33f45a660cc3b",
       "version_major": 2,
       "version_minor": 0
      },
      "text/plain": [
       "Map(center=[-39.974479, 173.062973], controls=(WidgetControl(options=['position', 'transparent_bg'], widget=HB…"
      ]
     },
     "execution_count": 6,
     "metadata": {},
     "output_type": "execute_result"
    }
   ],
   "source": [
    "Map = geemap.Map(center=[-39.974479, 173.062973], zoom=8)\n",
    "\n",
    "bbox = ee.Geometry.Rectangle(173.062973, -39.974479, 175.172348, -38.734258)\n",
    "world_settlement_c= ee.ImageCollection(\"projects/sat-io/open-datasets/WSF/WSF_2019\").filterBounds(bbox)\n",
    "\n",
    "settle = 1\n",
    "non_settle = 0\n",
    "binary_image = world_settlement_c.where({settle:settle, value:example_image})\n",
    "\n",
    "Map.addLayer(world_settlement_c)\n",
    "Map"
   ]
  }
 ],
 "metadata": {
  "kernelspec": {
   "display_name": "RFterrain",
   "language": "python",
   "name": "python3"
  },
  "language_info": {
   "codemirror_mode": {
    "name": "ipython",
    "version": 3
   },
   "file_extension": ".py",
   "mimetype": "text/x-python",
   "name": "python",
   "nbconvert_exporter": "python",
   "pygments_lexer": "ipython3",
   "version": "3.11.4"
  },
  "orig_nbformat": 4
 },
 "nbformat": 4,
 "nbformat_minor": 2
}
