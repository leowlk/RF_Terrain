{
 "cells": [
  {
   "cell_type": "code",
   "execution_count": 8,
   "metadata": {},
   "outputs": [
    {
     "data": {
      "text/plain": [
       "['../ICESAT/combined_rf.joblib']"
      ]
     },
     "execution_count": 8,
     "metadata": {},
     "output_type": "execute_result"
    }
   ],
   "source": [
    "import joblib\n",
    "import numpy as np\n",
    "from sklearn.ensemble import GradientBoostingRegressor\n",
    "\n",
    "models = {\n",
    "    \"nl\": \"../ICESAT/zlimburg/results/zlimburg_pred_sklearn_model.joblib\",\n",
    "    \"nz\": \"../ICESAT/nzealand/results/taranaki_pred_sklearn_model.joblib\",\n",
    "    \"gc\": \"../ICESAT/gcanyon/results/gcanyon_pred_sklearn_model.joblib\",\n",
    "}\n",
    "\n",
    "def combine_rfs(rf_a, rf_b):\n",
    "    rf_a.estimators_ += rf_b.estimators_\n",
    "    rf_a.n_estimators = len(rf_a.estimators_)\n",
    "    return rf_a\n",
    "\n",
    "nl = joblib.load(models[\"nl\"])\n",
    "nz = joblib.load(models[\"nz\"])\n",
    "gc = joblib.load(models[\"gc\"])\n",
    "\n",
    "combined_nlnz = combine_rfs(nl, nz)\n",
    "combined_all = combine_rfs(combined_nlnz, gc)\n",
    "combined_all\n",
    "\n",
    "joblib.dump(combined_all, '../ICESAT/combined_rf.joblib')"
   ]
  }
 ],
 "metadata": {
  "kernelspec": {
   "display_name": "RFterrain",
   "language": "python",
   "name": "python3"
  },
  "language_info": {
   "codemirror_mode": {
    "name": "ipython",
    "version": 3
   },
   "file_extension": ".py",
   "mimetype": "text/x-python",
   "name": "python",
   "nbconvert_exporter": "python",
   "pygments_lexer": "ipython3",
   "version": "3.11.4"
  },
  "orig_nbformat": 4
 },
 "nbformat": 4,
 "nbformat_minor": 2
}
