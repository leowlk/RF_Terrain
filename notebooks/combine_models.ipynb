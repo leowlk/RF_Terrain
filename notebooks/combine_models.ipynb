{
 "cells": [
  {
   "cell_type": "code",
   "execution_count": 3,
   "metadata": {},
   "outputs": [
    {
     "ename": "TypeError",
     "evalue": "GradientBoostingRegressor.__init__() got an unexpected keyword argument 'estimators'",
     "output_type": "error",
     "traceback": [
      "\u001b[0;31m---------------------------------------------------------------------------\u001b[0m",
      "\u001b[0;31mTypeError\u001b[0m                                 Traceback (most recent call last)",
      "\u001b[1;32m/Users/leokan/Documents/TUDelft/rf_terrain/notebooks/combine_models.ipynb Cell 1\u001b[0m line \u001b[0;36m2\n\u001b[1;32m     <a href='vscode-notebook-cell:/Users/leokan/Documents/TUDelft/rf_terrain/notebooks/combine_models.ipynb#W0sZmlsZQ%3D%3D?line=22'>23</a>\u001b[0m nz \u001b[39m=\u001b[39m joblib\u001b[39m.\u001b[39mload(models[\u001b[39m\"\u001b[39m\u001b[39mnz\u001b[39m\u001b[39m\"\u001b[39m])\n\u001b[1;32m     <a href='vscode-notebook-cell:/Users/leokan/Documents/TUDelft/rf_terrain/notebooks/combine_models.ipynb#W0sZmlsZQ%3D%3D?line=23'>24</a>\u001b[0m gc \u001b[39m=\u001b[39m joblib\u001b[39m.\u001b[39mload(models[\u001b[39m\"\u001b[39m\u001b[39mgc\u001b[39m\u001b[39m\"\u001b[39m])\n\u001b[0;32m---> <a href='vscode-notebook-cell:/Users/leokan/Documents/TUDelft/rf_terrain/notebooks/combine_models.ipynb#W0sZmlsZQ%3D%3D?line=25'>26</a>\u001b[0m ensemble_regressor \u001b[39m=\u001b[39m GradientBoostingRegressor(estimators\u001b[39m=\u001b[39m[\n\u001b[1;32m     <a href='vscode-notebook-cell:/Users/leokan/Documents/TUDelft/rf_terrain/notebooks/combine_models.ipynb#W0sZmlsZQ%3D%3D?line=26'>27</a>\u001b[0m     (\u001b[39m'\u001b[39m\u001b[39mregressor1\u001b[39m\u001b[39m'\u001b[39m, nl),\n\u001b[1;32m     <a href='vscode-notebook-cell:/Users/leokan/Documents/TUDelft/rf_terrain/notebooks/combine_models.ipynb#W0sZmlsZQ%3D%3D?line=27'>28</a>\u001b[0m     (\u001b[39m'\u001b[39m\u001b[39mregressor2\u001b[39m\u001b[39m'\u001b[39m, nz),\n\u001b[1;32m     <a href='vscode-notebook-cell:/Users/leokan/Documents/TUDelft/rf_terrain/notebooks/combine_models.ipynb#W0sZmlsZQ%3D%3D?line=28'>29</a>\u001b[0m     (\u001b[39m'\u001b[39m\u001b[39mregressor3\u001b[39m\u001b[39m'\u001b[39m, gc)\n\u001b[1;32m     <a href='vscode-notebook-cell:/Users/leokan/Documents/TUDelft/rf_terrain/notebooks/combine_models.ipynb#W0sZmlsZQ%3D%3D?line=29'>30</a>\u001b[0m ])\n\u001b[1;32m     <a href='vscode-notebook-cell:/Users/leokan/Documents/TUDelft/rf_terrain/notebooks/combine_models.ipynb#W0sZmlsZQ%3D%3D?line=31'>32</a>\u001b[0m joblib\u001b[39m.\u001b[39mdump(ensemble_regressor, \u001b[39m'\u001b[39m\u001b[39m../ICESAT/ensemble_regressor.joblib\u001b[39m\u001b[39m'\u001b[39m)\n",
      "\u001b[0;31mTypeError\u001b[0m: GradientBoostingRegressor.__init__() got an unexpected keyword argument 'estimators'"
     ]
    }
   ],
   "source": [
    "import joblib\n",
    "import numpy as np\n",
    "from sklearn.ensemble import GradientBoostingRegressor\n",
    "from sklearn.ensemble import VotingRegressor\n",
    "\n",
    "models = {\n",
    "    \"nz\": \"../ICESAT/nzealand/results/taranaki_pred_toptimal_geometricOnly_model.joblib\",\n",
    "    \"gc\": \"../ICESAT/gcanyon/results/gcanyon_pred_geometricOnly_model.joblib\",\n",
    "    \"nl\": \"../ICESAT/zlimburg/results/zlimburg_pred_geometricOnly_model.joblib\",\n",
    "\n",
    "    # \"nl\": \"../ICESAT/zlimburg/results/zlimburg_pred_sklearn_model.joblib\",\n",
    "    # \"nz\": \"../ICESAT/nzealand/results/taranaki_pred_sklearn_model.joblib\",\n",
    "    # \"gc\": \"../ICESAT/gcanyon/results/gcanyon_pred_sklearn_model.joblib\",\n",
    "}\n",
    "\n",
    "# def combine_rfs(rf_a, rf_b):\n",
    "#     rf_a.estimators_ += rf_b.estimators_\n",
    "#     rf_a.n_estimators = len(rf_a.estimators_)\n",
    "#     return rf_a\n",
    "\n",
    "\n",
    "nl = joblib.load(models[\"nl\"])\n",
    "nz = joblib.load(models[\"nz\"])\n",
    "gc = joblib.load(models[\"gc\"])\n",
    "\n",
    "ensemble_regressor = GradientBoostingRegressor(estimators=[\n",
    "    ('regressor1', nl),\n",
    "    ('regressor2', nz),\n",
    "    ('regressor3', gc)\n",
    "])\n",
    "\n",
    "joblib.dump(ensemble_regressor, '../ICESAT/ensemble_regressor.joblib')\n",
    "\n",
    "\n",
    "# combined_nlnz = combine_rfs(nl, nz)\n",
    "# combined_all = combine_rfs(combined_nlnz, gc)\n",
    "# combined_all\n",
    "\n",
    "# joblib.dump(combined_all, '../ICESAT/combined_rf.joblib')"
   ]
  }
 ],
 "metadata": {
  "kernelspec": {
   "display_name": "RFterrain",
   "language": "python",
   "name": "python3"
  },
  "language_info": {
   "codemirror_mode": {
    "name": "ipython",
    "version": 3
   },
   "file_extension": ".py",
   "mimetype": "text/x-python",
   "name": "python",
   "nbconvert_exporter": "python",
   "pygments_lexer": "ipython3",
   "version": "3.11.4"
  },
  "orig_nbformat": 4
 },
 "nbformat": 4,
 "nbformat_minor": 2
}
