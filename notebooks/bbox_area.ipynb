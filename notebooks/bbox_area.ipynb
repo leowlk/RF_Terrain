{
 "cells": [
  {
   "cell_type": "code",
   "execution_count": 47,
   "metadata": {},
   "outputs": [],
   "source": [
    "import numpy as np\n",
    "import rasterio\n",
    "import pyproj\n",
    "class Area:\n",
    "    def bbox_calculator(filename):\n",
    "        parts = filename.split(\"/\")\n",
    "        if parts[2] == \"gcanyon\":\n",
    "            d_crs = 'EPSG:32612'\n",
    "        elif parts[2] == \"nzealand\":\n",
    "            d_crs = 'EPSG:2193'\n",
    "        elif parts[2] == \"zlimburg\":\n",
    "            d_crs = 'EPSG:28992'\n",
    "        \n",
    "        # read tif file\n",
    "        src = rasterio.open(filename)\n",
    "        src_crs = src.crs\n",
    "\n",
    "        src_xmin, src_ymin, src_xmax, src_ymax = src.bounds\n",
    "        \n",
    "        \n",
    "        points = [[src_xmin, src_ymin], [src_xmax, src_ymax]]\n",
    "        transform_to_local = pyproj.Transformer.from_crs(src_crs, d_crs, always_xy=True)\n",
    "        bbox = [list(pt) for pt in transform_to_local.itransform(points)]\n",
    "        \n",
    "       \n",
    "        [x1, y1, x2, y2] = bbox  \n",
    "        print(bbox)\n",
    "        area = abs(x2-x1) * abs(y1-y2)\n",
    "        return area/1e6\n",
    "\n",
    "    def pyproj_to_global(coord, local_CRS=None):\n",
    "        GLOCRS ='EPSG:4326'\n",
    "        x, y = coord\n",
    "        transform_to_global = pyproj.Transformer.from_crs(local_CRS, GLOCRS)\n",
    "        lat, lon = transform_to_global.transform(x, y)\n",
    "        return lat, lon\n",
    "        \n"
   ]
  },
  {
   "cell_type": "markdown",
   "metadata": {},
   "source": [
    "NL = [168829.74008834935, 305824.4039378013, 209425.3312739388, 343950.3013630507] # EPSG:28992\n",
    "NL = [50.742223759447654, 5.583114042035216, 51.08249486947827, 6.1639043635347] # EPSG:4326\n",
    "\n",
    "Canyon = [362777.0640353123,3995274.1739896415,388989.1011007625,4019403.946428397]"
   ]
  },
  {
   "cell_type": "code",
   "execution_count": null,
   "metadata": {},
   "outputs": [],
   "source": []
  },
  {
   "cell_type": "code",
   "execution_count": null,
   "metadata": {},
   "outputs": [],
   "source": []
  },
  {
   "cell_type": "code",
   "execution_count": 48,
   "metadata": {},
   "outputs": [
    {
     "name": "stdout",
     "output_type": "stream",
     "text": [
      "(390090.8160985289, 3981872.552562367, 431058.3589705123, 4019376.3673198097)\n",
      "newzealand 1536.4391389384512\n",
      "(390090.8160985289, 3981872.552562367, 431058.3589705123, 4019376.3673198097)\n",
      "grandcayon 1536.4391389384512\n",
      "(390090.8160985289, 3981872.552562367, 431058.3589705123, 4019376.3673198097)\n",
      "zuidlimburg 1536.4391389384512\n"
     ]
    }
   ],
   "source": [
    "nz = Area.bbox_calculator(\"../ICESAT/nzealand/rf_features/interp_laplace.tif\")\n",
    "print(\"newzealand\", nz)\n",
    "gc = Area.bbox_calculator(\"../ICESAT/gcanyon/rf_features/interp_laplace.tif\")\n",
    "print(\"grandcayon\", gc)\n",
    "nl = Area.bbox_calculator(\"../ICESAT/zlimburg/rf_features/interp_laplace.tif\")\n",
    "print(\"zuidlimburg\", nl)\n"
   ]
  },
  {
   "cell_type": "code",
   "execution_count": 51,
   "metadata": {},
   "outputs": [
    {
     "name": "stdout",
     "output_type": "stream",
     "text": [
      "(36.31694035419172, -111.76801146903746)\n"
     ]
    }
   ],
   "source": [
    "\n",
    "coord = (431058.3589705123,4019376.3673198097)\n",
    "nl_4326 = Area.pyproj_to_global(coord=coord, local_CRS='EPSG:32612')\n",
    "print(nl_4326)"
   ]
  }
 ],
 "metadata": {
  "kernelspec": {
   "display_name": "RFterrain",
   "language": "python",
   "name": "python3"
  },
  "language_info": {
   "codemirror_mode": {
    "name": "ipython",
    "version": 3
   },
   "file_extension": ".py",
   "mimetype": "text/x-python",
   "name": "python",
   "nbconvert_exporter": "python",
   "pygments_lexer": "ipython3",
   "version": "3.11.4"
  },
  "orig_nbformat": 4
 },
 "nbformat": 4,
 "nbformat_minor": 2
}
