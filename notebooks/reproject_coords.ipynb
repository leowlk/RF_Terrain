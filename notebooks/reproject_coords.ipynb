{
 "cells": [
  {
   "cell_type": "code",
   "execution_count": 17,
   "metadata": {},
   "outputs": [],
   "source": [
    "import pyproj\n",
    "import pandas as pd\n",
    "data = pd.read_csv('../ICESAT/tasmania/tasman_samples.csv', delimiter=' ')\n",
    "\n",
    "def transform_datafr(from_epsg, to_epsg, df):\n",
    "    src_crs = pyproj.CRS.from_epsg(from_epsg)  # WGS84\n",
    "    target_crs = pyproj.CRS.from_epsg(to_epsg)  # Web Mercator\n",
    "    # Create a transformer\n",
    "    transformer = pyproj.Transformer.from_crs(src_crs, target_crs, always_xy=True)\n",
    "    df['x'], df['y'] = transformer.transform(df['x'].values, df['y'].values)\n",
    "    return df\n",
    "\n",
    "dataT = transform_datafr(5551, 4326, data)\n",
    "\n",
    "dataT.columns = ['lon', 'lat', 'h_te_interp']\n",
    "dataT = dataT[['lat', 'lon', 'h_te_interp']]\n",
    "\n",
    "dataT.to_csv('../ICESAT/tasmania/tasman_samples4.csv', index=False)\n"
   ]
  }
 ],
 "metadata": {
  "kernelspec": {
   "display_name": "rf_terrain",
   "language": "python",
   "name": "python3"
  },
  "language_info": {
   "codemirror_mode": {
    "name": "ipython",
    "version": 3
   },
   "file_extension": ".py",
   "mimetype": "text/x-python",
   "name": "python",
   "nbconvert_exporter": "python",
   "pygments_lexer": "ipython3",
   "version": "3.10.12"
  },
  "orig_nbformat": 4
 },
 "nbformat": 4,
 "nbformat_minor": 2
}
